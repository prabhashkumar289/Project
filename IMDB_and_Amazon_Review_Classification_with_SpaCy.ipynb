{
  "nbformat": 4,
  "nbformat_minor": 0,
  "metadata": {
    "colab": {
      "name": "IMDB and Amazon Review Classification with SpaCy.ipynb",
      "provenance": [],
      "authorship_tag": "ABX9TyNE5b3uJOHlKdntf9sKLdFe",
      "include_colab_link": true
    },
    "kernelspec": {
      "name": "python3",
      "display_name": "Python 3"
    },
    "language_info": {
      "name": "python"
    }
  },
  "cells": [
    {
      "cell_type": "markdown",
      "metadata": {
        "id": "view-in-github",
        "colab_type": "text"
      },
      "source": [
        "<a href=\"https://colab.research.google.com/github/prabhashkumar289/Project/blob/main/IMDB_and_Amazon_Review_Classification_with_SpaCy.ipynb\" target=\"_parent\"><img src=\"https://colab.research.google.com/assets/colab-badge.svg\" alt=\"Open In Colab\"/></a>"
      ]
    },
    {
      "cell_type": "markdown",
      "metadata": {
        "id": "oWRL0aSJlFqs"
      },
      "source": [
        "#1) Importing the datasets"
      ]
    },
    {
      "cell_type": "code",
      "metadata": {
        "id": "bdPb6f26lPXE"
      },
      "source": [
        "import numpy as np\n",
        "import pandas as pd\n",
        "import matplotlib.pyplot as plt"
      ],
      "execution_count": 61,
      "outputs": []
    },
    {
      "cell_type": "code",
      "metadata": {
        "id": "sBrzBed4nQeR"
      },
      "source": [
        "data_yelp = pd.read_csv('yelp_labelled.txt', sep='\\t', header=None)"
      ],
      "execution_count": 62,
      "outputs": []
    },
    {
      "cell_type": "code",
      "metadata": {
        "colab": {
          "base_uri": "https://localhost:8080/",
          "height": 202
        },
        "id": "N6-4Fvv2niiJ",
        "outputId": "edc1684c-9c95-4a89-9456-f1ee9aa615be"
      },
      "source": [
        "data_yelp.head()\n",
        "# review and sentiment \n",
        "# 0-Negative, 1-Positive for positive review"
      ],
      "execution_count": 63,
      "outputs": [
        {
          "output_type": "execute_result",
          "data": {
            "text/html": [
              "<div>\n",
              "<style scoped>\n",
              "    .dataframe tbody tr th:only-of-type {\n",
              "        vertical-align: middle;\n",
              "    }\n",
              "\n",
              "    .dataframe tbody tr th {\n",
              "        vertical-align: top;\n",
              "    }\n",
              "\n",
              "    .dataframe thead th {\n",
              "        text-align: right;\n",
              "    }\n",
              "</style>\n",
              "<table border=\"1\" class=\"dataframe\">\n",
              "  <thead>\n",
              "    <tr style=\"text-align: right;\">\n",
              "      <th></th>\n",
              "      <th>0</th>\n",
              "      <th>1</th>\n",
              "    </tr>\n",
              "  </thead>\n",
              "  <tbody>\n",
              "    <tr>\n",
              "      <th>0</th>\n",
              "      <td>Wow... Loved this place.</td>\n",
              "      <td>1</td>\n",
              "    </tr>\n",
              "    <tr>\n",
              "      <th>1</th>\n",
              "      <td>Crust is not good.</td>\n",
              "      <td>0</td>\n",
              "    </tr>\n",
              "    <tr>\n",
              "      <th>2</th>\n",
              "      <td>Not tasty and the texture was just nasty.</td>\n",
              "      <td>0</td>\n",
              "    </tr>\n",
              "    <tr>\n",
              "      <th>3</th>\n",
              "      <td>Stopped by during the late May bank holiday of...</td>\n",
              "      <td>1</td>\n",
              "    </tr>\n",
              "    <tr>\n",
              "      <th>4</th>\n",
              "      <td>The selection on the menu was great and so wer...</td>\n",
              "      <td>1</td>\n",
              "    </tr>\n",
              "  </tbody>\n",
              "</table>\n",
              "</div>"
            ],
            "text/plain": [
              "                                                   0  1\n",
              "0                           Wow... Loved this place.  1\n",
              "1                                 Crust is not good.  0\n",
              "2          Not tasty and the texture was just nasty.  0\n",
              "3  Stopped by during the late May bank holiday of...  1\n",
              "4  The selection on the menu was great and so wer...  1"
            ]
          },
          "metadata": {},
          "execution_count": 63
        }
      ]
    },
    {
      "cell_type": "code",
      "metadata": {
        "id": "coTarhObn5RI"
      },
      "source": [
        "# Assign column names\n",
        "columan_name = ['Review', 'Sentiment']\n",
        "data_yelp.columns = columan_name"
      ],
      "execution_count": 64,
      "outputs": []
    },
    {
      "cell_type": "code",
      "metadata": {
        "colab": {
          "base_uri": "https://localhost:8080/",
          "height": 202
        },
        "id": "dVin-p4SoQWf",
        "outputId": "4307476b-1534-4588-90c8-adb3e273226d"
      },
      "source": [
        "data_yelp.head()\n"
      ],
      "execution_count": 65,
      "outputs": [
        {
          "output_type": "execute_result",
          "data": {
            "text/html": [
              "<div>\n",
              "<style scoped>\n",
              "    .dataframe tbody tr th:only-of-type {\n",
              "        vertical-align: middle;\n",
              "    }\n",
              "\n",
              "    .dataframe tbody tr th {\n",
              "        vertical-align: top;\n",
              "    }\n",
              "\n",
              "    .dataframe thead th {\n",
              "        text-align: right;\n",
              "    }\n",
              "</style>\n",
              "<table border=\"1\" class=\"dataframe\">\n",
              "  <thead>\n",
              "    <tr style=\"text-align: right;\">\n",
              "      <th></th>\n",
              "      <th>Review</th>\n",
              "      <th>Sentiment</th>\n",
              "    </tr>\n",
              "  </thead>\n",
              "  <tbody>\n",
              "    <tr>\n",
              "      <th>0</th>\n",
              "      <td>Wow... Loved this place.</td>\n",
              "      <td>1</td>\n",
              "    </tr>\n",
              "    <tr>\n",
              "      <th>1</th>\n",
              "      <td>Crust is not good.</td>\n",
              "      <td>0</td>\n",
              "    </tr>\n",
              "    <tr>\n",
              "      <th>2</th>\n",
              "      <td>Not tasty and the texture was just nasty.</td>\n",
              "      <td>0</td>\n",
              "    </tr>\n",
              "    <tr>\n",
              "      <th>3</th>\n",
              "      <td>Stopped by during the late May bank holiday of...</td>\n",
              "      <td>1</td>\n",
              "    </tr>\n",
              "    <tr>\n",
              "      <th>4</th>\n",
              "      <td>The selection on the menu was great and so wer...</td>\n",
              "      <td>1</td>\n",
              "    </tr>\n",
              "  </tbody>\n",
              "</table>\n",
              "</div>"
            ],
            "text/plain": [
              "                                              Review  Sentiment\n",
              "0                           Wow... Loved this place.          1\n",
              "1                                 Crust is not good.          0\n",
              "2          Not tasty and the texture was just nasty.          0\n",
              "3  Stopped by during the late May bank holiday of...          1\n",
              "4  The selection on the menu was great and so wer...          1"
            ]
          },
          "metadata": {},
          "execution_count": 65
        }
      ]
    },
    {
      "cell_type": "code",
      "metadata": {
        "colab": {
          "base_uri": "https://localhost:8080/"
        },
        "id": "fxrSDqHVoc9f",
        "outputId": "52008140-75f1-400d-9d1c-92adb78ab1e5"
      },
      "source": [
        "data_yelp.shape\n",
        "# 1000 rows (reviews), 2 columns (Sentiments)"
      ],
      "execution_count": 66,
      "outputs": [
        {
          "output_type": "execute_result",
          "data": {
            "text/plain": [
              "(1000, 2)"
            ]
          },
          "metadata": {},
          "execution_count": 66
        }
      ]
    },
    {
      "cell_type": "code",
      "metadata": {
        "id": "G-Gz88G5o174"
      },
      "source": [
        "data_amazon = pd.read_csv('amazon_cells_labelled.txt', sep='\\t', header=None)\n",
        " # importing dataset from file"
      ],
      "execution_count": 67,
      "outputs": []
    },
    {
      "cell_type": "code",
      "metadata": {
        "colab": {
          "base_uri": "https://localhost:8080/",
          "height": 202
        },
        "id": "LYc3lNlKpkwQ",
        "outputId": "b6e12611-90fd-42d8-bd6b-3bde96683b6d"
      },
      "source": [
        "data_amazon.head()\n",
        " # review and sentiment\n",
        " # 0-Negative, 1-Positive for Positive review"
      ],
      "execution_count": 68,
      "outputs": [
        {
          "output_type": "execute_result",
          "data": {
            "text/html": [
              "<div>\n",
              "<style scoped>\n",
              "    .dataframe tbody tr th:only-of-type {\n",
              "        vertical-align: middle;\n",
              "    }\n",
              "\n",
              "    .dataframe tbody tr th {\n",
              "        vertical-align: top;\n",
              "    }\n",
              "\n",
              "    .dataframe thead th {\n",
              "        text-align: right;\n",
              "    }\n",
              "</style>\n",
              "<table border=\"1\" class=\"dataframe\">\n",
              "  <thead>\n",
              "    <tr style=\"text-align: right;\">\n",
              "      <th></th>\n",
              "      <th>0</th>\n",
              "      <th>1</th>\n",
              "    </tr>\n",
              "  </thead>\n",
              "  <tbody>\n",
              "    <tr>\n",
              "      <th>0</th>\n",
              "      <td>So there is no way for me to plug it in here i...</td>\n",
              "      <td>0</td>\n",
              "    </tr>\n",
              "    <tr>\n",
              "      <th>1</th>\n",
              "      <td>Good case, Excellent value.</td>\n",
              "      <td>1</td>\n",
              "    </tr>\n",
              "    <tr>\n",
              "      <th>2</th>\n",
              "      <td>Great for the jawbone.</td>\n",
              "      <td>1</td>\n",
              "    </tr>\n",
              "    <tr>\n",
              "      <th>3</th>\n",
              "      <td>Tied to charger for conversations lasting more...</td>\n",
              "      <td>0</td>\n",
              "    </tr>\n",
              "    <tr>\n",
              "      <th>4</th>\n",
              "      <td>The mic is great.</td>\n",
              "      <td>1</td>\n",
              "    </tr>\n",
              "  </tbody>\n",
              "</table>\n",
              "</div>"
            ],
            "text/plain": [
              "                                                   0  1\n",
              "0  So there is no way for me to plug it in here i...  0\n",
              "1                        Good case, Excellent value.  1\n",
              "2                             Great for the jawbone.  1\n",
              "3  Tied to charger for conversations lasting more...  0\n",
              "4                                  The mic is great.  1"
            ]
          },
          "metadata": {},
          "execution_count": 68
        }
      ]
    },
    {
      "cell_type": "code",
      "metadata": {
        "id": "LxxN7gfspnWG"
      },
      "source": [
        "data_amazon.columns = columan_name\n",
        "# insitilizing the head of database"
      ],
      "execution_count": 69,
      "outputs": []
    },
    {
      "cell_type": "code",
      "metadata": {
        "colab": {
          "base_uri": "https://localhost:8080/",
          "height": 202
        },
        "id": "Olkla9DcqMeD",
        "outputId": "996e55fe-bda6-4261-80b4-7be675e14acd"
      },
      "source": [
        "data_amazon.head()"
      ],
      "execution_count": 70,
      "outputs": [
        {
          "output_type": "execute_result",
          "data": {
            "text/html": [
              "<div>\n",
              "<style scoped>\n",
              "    .dataframe tbody tr th:only-of-type {\n",
              "        vertical-align: middle;\n",
              "    }\n",
              "\n",
              "    .dataframe tbody tr th {\n",
              "        vertical-align: top;\n",
              "    }\n",
              "\n",
              "    .dataframe thead th {\n",
              "        text-align: right;\n",
              "    }\n",
              "</style>\n",
              "<table border=\"1\" class=\"dataframe\">\n",
              "  <thead>\n",
              "    <tr style=\"text-align: right;\">\n",
              "      <th></th>\n",
              "      <th>Review</th>\n",
              "      <th>Sentiment</th>\n",
              "    </tr>\n",
              "  </thead>\n",
              "  <tbody>\n",
              "    <tr>\n",
              "      <th>0</th>\n",
              "      <td>So there is no way for me to plug it in here i...</td>\n",
              "      <td>0</td>\n",
              "    </tr>\n",
              "    <tr>\n",
              "      <th>1</th>\n",
              "      <td>Good case, Excellent value.</td>\n",
              "      <td>1</td>\n",
              "    </tr>\n",
              "    <tr>\n",
              "      <th>2</th>\n",
              "      <td>Great for the jawbone.</td>\n",
              "      <td>1</td>\n",
              "    </tr>\n",
              "    <tr>\n",
              "      <th>3</th>\n",
              "      <td>Tied to charger for conversations lasting more...</td>\n",
              "      <td>0</td>\n",
              "    </tr>\n",
              "    <tr>\n",
              "      <th>4</th>\n",
              "      <td>The mic is great.</td>\n",
              "      <td>1</td>\n",
              "    </tr>\n",
              "  </tbody>\n",
              "</table>\n",
              "</div>"
            ],
            "text/plain": [
              "                                              Review  Sentiment\n",
              "0  So there is no way for me to plug it in here i...          0\n",
              "1                        Good case, Excellent value.          1\n",
              "2                             Great for the jawbone.          1\n",
              "3  Tied to charger for conversations lasting more...          0\n",
              "4                                  The mic is great.          1"
            ]
          },
          "metadata": {},
          "execution_count": 70
        }
      ]
    },
    {
      "cell_type": "code",
      "metadata": {
        "colab": {
          "base_uri": "https://localhost:8080/"
        },
        "id": "hUnOYx_aqRD7",
        "outputId": "ff1b6d1d-4c47-4cde-ebe9-caa756baa1ab"
      },
      "source": [
        "data_amazon.shape"
      ],
      "execution_count": 71,
      "outputs": [
        {
          "output_type": "execute_result",
          "data": {
            "text/plain": [
              "(1000, 2)"
            ]
          },
          "metadata": {},
          "execution_count": 71
        }
      ]
    },
    {
      "cell_type": "code",
      "metadata": {
        "colab": {
          "base_uri": "https://localhost:8080/",
          "height": 202
        },
        "id": "TFcqD3H5qiys",
        "outputId": "7ba555b7-2a6f-4ce5-eef9-bea389cfc212"
      },
      "source": [
        "data_imdb = pd.read_csv('imdb_labelled.txt', sep='\\t',header=None)\n",
        "data_imdb.head()"
      ],
      "execution_count": 72,
      "outputs": [
        {
          "output_type": "execute_result",
          "data": {
            "text/html": [
              "<div>\n",
              "<style scoped>\n",
              "    .dataframe tbody tr th:only-of-type {\n",
              "        vertical-align: middle;\n",
              "    }\n",
              "\n",
              "    .dataframe tbody tr th {\n",
              "        vertical-align: top;\n",
              "    }\n",
              "\n",
              "    .dataframe thead th {\n",
              "        text-align: right;\n",
              "    }\n",
              "</style>\n",
              "<table border=\"1\" class=\"dataframe\">\n",
              "  <thead>\n",
              "    <tr style=\"text-align: right;\">\n",
              "      <th></th>\n",
              "      <th>0</th>\n",
              "      <th>1</th>\n",
              "    </tr>\n",
              "  </thead>\n",
              "  <tbody>\n",
              "    <tr>\n",
              "      <th>0</th>\n",
              "      <td>A very, very, very slow-moving, aimless movie ...</td>\n",
              "      <td>0</td>\n",
              "    </tr>\n",
              "    <tr>\n",
              "      <th>1</th>\n",
              "      <td>Not sure who was more lost - the flat characte...</td>\n",
              "      <td>0</td>\n",
              "    </tr>\n",
              "    <tr>\n",
              "      <th>2</th>\n",
              "      <td>Attempting artiness with black &amp; white and cle...</td>\n",
              "      <td>0</td>\n",
              "    </tr>\n",
              "    <tr>\n",
              "      <th>3</th>\n",
              "      <td>Very little music or anything to speak of.</td>\n",
              "      <td>0</td>\n",
              "    </tr>\n",
              "    <tr>\n",
              "      <th>4</th>\n",
              "      <td>The best scene in the movie was when Gerardo i...</td>\n",
              "      <td>1</td>\n",
              "    </tr>\n",
              "  </tbody>\n",
              "</table>\n",
              "</div>"
            ],
            "text/plain": [
              "                                                   0  1\n",
              "0  A very, very, very slow-moving, aimless movie ...  0\n",
              "1  Not sure who was more lost - the flat characte...  0\n",
              "2  Attempting artiness with black & white and cle...  0\n",
              "3       Very little music or anything to speak of.    0\n",
              "4  The best scene in the movie was when Gerardo i...  1"
            ]
          },
          "metadata": {},
          "execution_count": 72
        }
      ]
    },
    {
      "cell_type": "code",
      "metadata": {
        "id": "e6EhodAwq5Ma"
      },
      "source": [
        "data_imdb.columns = columan_name"
      ],
      "execution_count": 73,
      "outputs": []
    },
    {
      "cell_type": "code",
      "metadata": {
        "colab": {
          "base_uri": "https://localhost:8080/",
          "height": 202
        },
        "id": "0UiTZEexrbVi",
        "outputId": "d0291582-df26-4b79-ecbb-86cd259b3a25"
      },
      "source": [
        "data_imdb.head()"
      ],
      "execution_count": 74,
      "outputs": [
        {
          "output_type": "execute_result",
          "data": {
            "text/html": [
              "<div>\n",
              "<style scoped>\n",
              "    .dataframe tbody tr th:only-of-type {\n",
              "        vertical-align: middle;\n",
              "    }\n",
              "\n",
              "    .dataframe tbody tr th {\n",
              "        vertical-align: top;\n",
              "    }\n",
              "\n",
              "    .dataframe thead th {\n",
              "        text-align: right;\n",
              "    }\n",
              "</style>\n",
              "<table border=\"1\" class=\"dataframe\">\n",
              "  <thead>\n",
              "    <tr style=\"text-align: right;\">\n",
              "      <th></th>\n",
              "      <th>Review</th>\n",
              "      <th>Sentiment</th>\n",
              "    </tr>\n",
              "  </thead>\n",
              "  <tbody>\n",
              "    <tr>\n",
              "      <th>0</th>\n",
              "      <td>A very, very, very slow-moving, aimless movie ...</td>\n",
              "      <td>0</td>\n",
              "    </tr>\n",
              "    <tr>\n",
              "      <th>1</th>\n",
              "      <td>Not sure who was more lost - the flat characte...</td>\n",
              "      <td>0</td>\n",
              "    </tr>\n",
              "    <tr>\n",
              "      <th>2</th>\n",
              "      <td>Attempting artiness with black &amp; white and cle...</td>\n",
              "      <td>0</td>\n",
              "    </tr>\n",
              "    <tr>\n",
              "      <th>3</th>\n",
              "      <td>Very little music or anything to speak of.</td>\n",
              "      <td>0</td>\n",
              "    </tr>\n",
              "    <tr>\n",
              "      <th>4</th>\n",
              "      <td>The best scene in the movie was when Gerardo i...</td>\n",
              "      <td>1</td>\n",
              "    </tr>\n",
              "  </tbody>\n",
              "</table>\n",
              "</div>"
            ],
            "text/plain": [
              "                                              Review  Sentiment\n",
              "0  A very, very, very slow-moving, aimless movie ...          0\n",
              "1  Not sure who was more lost - the flat characte...          0\n",
              "2  Attempting artiness with black & white and cle...          0\n",
              "3       Very little music or anything to speak of.            0\n",
              "4  The best scene in the movie was when Gerardo i...          1"
            ]
          },
          "metadata": {},
          "execution_count": 74
        }
      ]
    },
    {
      "cell_type": "code",
      "metadata": {
        "colab": {
          "base_uri": "https://localhost:8080/"
        },
        "id": "0G9dk8VZreTx",
        "outputId": "6a2ce89e-fbc0-41ba-cd5b-1effcf38e3b1"
      },
      "source": [
        "data_imdb.shape"
      ],
      "execution_count": 75,
      "outputs": [
        {
          "output_type": "execute_result",
          "data": {
            "text/plain": [
              "(748, 2)"
            ]
          },
          "metadata": {},
          "execution_count": 75
        }
      ]
    },
    {
      "cell_type": "code",
      "metadata": {
        "id": "m2lwg-TorpWx"
      },
      "source": [
        "# Append all the data in a single dataframe"
      ],
      "execution_count": 76,
      "outputs": []
    },
    {
      "cell_type": "code",
      "metadata": {
        "id": "0BS_EefdsWcf"
      },
      "source": [
        "data = data_yelp.append([data_amazon,data_imdb], ignore_index=True)"
      ],
      "execution_count": 77,
      "outputs": []
    },
    {
      "cell_type": "code",
      "metadata": {
        "colab": {
          "base_uri": "https://localhost:8080/"
        },
        "id": "jgFrBNFysj63",
        "outputId": "11fe6e75-078f-4031-90b6-3aa051cd84bd"
      },
      "source": [
        "data.shape"
      ],
      "execution_count": 78,
      "outputs": [
        {
          "output_type": "execute_result",
          "data": {
            "text/plain": [
              "(2748, 2)"
            ]
          },
          "metadata": {},
          "execution_count": 78
        }
      ]
    },
    {
      "cell_type": "code",
      "metadata": {
        "colab": {
          "base_uri": "https://localhost:8080/",
          "height": 202
        },
        "id": "fm8OD1iCslCn",
        "outputId": "8fb428f1-5945-4608-fe53-83f44081a99a"
      },
      "source": [
        "data.head()"
      ],
      "execution_count": 79,
      "outputs": [
        {
          "output_type": "execute_result",
          "data": {
            "text/html": [
              "<div>\n",
              "<style scoped>\n",
              "    .dataframe tbody tr th:only-of-type {\n",
              "        vertical-align: middle;\n",
              "    }\n",
              "\n",
              "    .dataframe tbody tr th {\n",
              "        vertical-align: top;\n",
              "    }\n",
              "\n",
              "    .dataframe thead th {\n",
              "        text-align: right;\n",
              "    }\n",
              "</style>\n",
              "<table border=\"1\" class=\"dataframe\">\n",
              "  <thead>\n",
              "    <tr style=\"text-align: right;\">\n",
              "      <th></th>\n",
              "      <th>Review</th>\n",
              "      <th>Sentiment</th>\n",
              "    </tr>\n",
              "  </thead>\n",
              "  <tbody>\n",
              "    <tr>\n",
              "      <th>0</th>\n",
              "      <td>Wow... Loved this place.</td>\n",
              "      <td>1</td>\n",
              "    </tr>\n",
              "    <tr>\n",
              "      <th>1</th>\n",
              "      <td>Crust is not good.</td>\n",
              "      <td>0</td>\n",
              "    </tr>\n",
              "    <tr>\n",
              "      <th>2</th>\n",
              "      <td>Not tasty and the texture was just nasty.</td>\n",
              "      <td>0</td>\n",
              "    </tr>\n",
              "    <tr>\n",
              "      <th>3</th>\n",
              "      <td>Stopped by during the late May bank holiday of...</td>\n",
              "      <td>1</td>\n",
              "    </tr>\n",
              "    <tr>\n",
              "      <th>4</th>\n",
              "      <td>The selection on the menu was great and so wer...</td>\n",
              "      <td>1</td>\n",
              "    </tr>\n",
              "  </tbody>\n",
              "</table>\n",
              "</div>"
            ],
            "text/plain": [
              "                                              Review  Sentiment\n",
              "0                           Wow... Loved this place.          1\n",
              "1                                 Crust is not good.          0\n",
              "2          Not tasty and the texture was just nasty.          0\n",
              "3  Stopped by during the late May bank holiday of...          1\n",
              "4  The selection on the menu was great and so wer...          1"
            ]
          },
          "metadata": {},
          "execution_count": 79
        }
      ]
    },
    {
      "cell_type": "code",
      "metadata": {
        "id": "NBVsUO24snUv"
      },
      "source": [
        "# Check distribution of sentences"
      ],
      "execution_count": 80,
      "outputs": []
    },
    {
      "cell_type": "code",
      "metadata": {
        "colab": {
          "base_uri": "https://localhost:8080/"
        },
        "id": "9uidzGuLsx4H",
        "outputId": "e2ce6f51-3a39-42f0-c347-f9a1aed1785e"
      },
      "source": [
        "data['Sentiment'].value_counts()\n",
        "\n",
        "# 1386 Positive reviews\n",
        "# 1362 Negative reviews"
      ],
      "execution_count": 81,
      "outputs": [
        {
          "output_type": "execute_result",
          "data": {
            "text/plain": [
              "1    1386\n",
              "0    1362\n",
              "Name: Sentiment, dtype: int64"
            ]
          },
          "metadata": {},
          "execution_count": 81
        }
      ]
    },
    {
      "cell_type": "code",
      "metadata": {
        "colab": {
          "base_uri": "https://localhost:8080/"
        },
        "id": "nsG_6CactIvu",
        "outputId": "c90d3839-4b4c-464e-a734-2cdf834adc48"
      },
      "source": [
        "# Check for null values\n",
        "\n",
        "data.isnull().sum()\n",
        "\n",
        "# no null valuesin the data"
      ],
      "execution_count": 82,
      "outputs": [
        {
          "output_type": "execute_result",
          "data": {
            "text/plain": [
              "Review       0\n",
              "Sentiment    0\n",
              "dtype: int64"
            ]
          },
          "metadata": {},
          "execution_count": 82
        }
      ]
    },
    {
      "cell_type": "code",
      "metadata": {
        "id": "Eq9jEAtmtmEG"
      },
      "source": [
        "x = data['Review']\n",
        "y = data['Sentiment']"
      ],
      "execution_count": 83,
      "outputs": []
    },
    {
      "cell_type": "code",
      "metadata": {
        "id": "8rBmp-Uqulrb"
      },
      "source": [
        ""
      ],
      "execution_count": 83,
      "outputs": []
    },
    {
      "cell_type": "markdown",
      "metadata": {
        "id": "Nai3Aqo6unqk"
      },
      "source": [
        "# 2) Data Cleaning"
      ]
    },
    {
      "cell_type": "code",
      "metadata": {
        "id": "vksD_k3uurST"
      },
      "source": [
        "# Here we will remove stopwords, punctuations\n",
        "# As well as we will apply lemmatization"
      ],
      "execution_count": 30,
      "outputs": []
    },
    {
      "cell_type": "markdown",
      "metadata": {
        "id": "IdC_wBAByj8c"
      },
      "source": [
        "#Creating a function to clean the data"
      ]
    },
    {
      "cell_type": "code",
      "metadata": {
        "id": "4hpWpi5dygwT"
      },
      "source": [
        "import string"
      ],
      "execution_count": 31,
      "outputs": []
    },
    {
      "cell_type": "code",
      "metadata": {
        "id": "6aMmc3xPyrv9"
      },
      "source": [
        "punct = string.punctuation"
      ],
      "execution_count": 32,
      "outputs": []
    },
    {
      "cell_type": "code",
      "metadata": {
        "colab": {
          "base_uri": "https://localhost:8080/",
          "height": 35
        },
        "id": "XCt_yx5zyvZ1",
        "outputId": "848b3733-b39c-4f9f-8aba-4f7bf6727cf2"
      },
      "source": [
        "punct"
      ],
      "execution_count": 33,
      "outputs": [
        {
          "output_type": "execute_result",
          "data": {
            "application/vnd.google.colaboratory.intrinsic+json": {
              "type": "string"
            },
            "text/plain": [
              "'!\"#$%&\\'()*+,-./:;<=>?@[\\\\]^_`{|}~'"
            ]
          },
          "metadata": {},
          "execution_count": 33
        }
      ]
    },
    {
      "cell_type": "code",
      "metadata": {
        "id": "LPocZWI0yw4k"
      },
      "source": [
        "from spacy.lang.en.stop_words import STOP_WORDS"
      ],
      "execution_count": 34,
      "outputs": []
    },
    {
      "cell_type": "code",
      "metadata": {
        "id": "d5hMdNwzy_hk"
      },
      "source": [
        "stopwords = list(STOP_WORDS)  # LIST OF STOPWORDS"
      ],
      "execution_count": 35,
      "outputs": []
    },
    {
      "cell_type": "code",
      "metadata": {
        "colab": {
          "base_uri": "https://localhost:8080/"
        },
        "id": "8iNRQnH6zLXt",
        "outputId": "d4728951-4684-419a-eafa-4482477ab226"
      },
      "source": [
        "stopwords"
      ],
      "execution_count": 36,
      "outputs": [
        {
          "output_type": "execute_result",
          "data": {
            "text/plain": [
              "['take',\n",
              " 'top',\n",
              " 'via',\n",
              " 'all',\n",
              " 'none',\n",
              " 'anyone',\n",
              " 'was',\n",
              " 'except',\n",
              " 'alone',\n",
              " 'were',\n",
              " 're',\n",
              " 'used',\n",
              " 'made',\n",
              " 'same',\n",
              " 'twelve',\n",
              " 'two',\n",
              " 'moreover',\n",
              " 'am',\n",
              " 'thereby',\n",
              " 'side',\n",
              " 'hence',\n",
              " '’s',\n",
              " 'make',\n",
              " 'nor',\n",
              " 'had',\n",
              " 'former',\n",
              " 'him',\n",
              " 'become',\n",
              " 'mine',\n",
              " 'cannot',\n",
              " 'thence',\n",
              " 'whereupon',\n",
              " 'yours',\n",
              " 'done',\n",
              " 'then',\n",
              " 'elsewhere',\n",
              " 'nevertheless',\n",
              " '’ve',\n",
              " 'meanwhile',\n",
              " 'various',\n",
              " 'along',\n",
              " 'full',\n",
              " 'above',\n",
              " 'becoming',\n",
              " 'also',\n",
              " 'over',\n",
              " 'beforehand',\n",
              " 'regarding',\n",
              " 'therefore',\n",
              " '’ll',\n",
              " 'amongst',\n",
              " 'amount',\n",
              " 'are',\n",
              " 'me',\n",
              " 'beyond',\n",
              " 'anywhere',\n",
              " 'one',\n",
              " 'bottom',\n",
              " 'several',\n",
              " 'throughout',\n",
              " 'please',\n",
              " '’d',\n",
              " 'call',\n",
              " 'every',\n",
              " 'during',\n",
              " 'forty',\n",
              " 'could',\n",
              " 'still',\n",
              " 'someone',\n",
              " 'hundred',\n",
              " 'although',\n",
              " 'using',\n",
              " 'even',\n",
              " '‘ve',\n",
              " 'less',\n",
              " 'while',\n",
              " 'fifteen',\n",
              " 'formerly',\n",
              " 'if',\n",
              " 'almost',\n",
              " 'other',\n",
              " 'neither',\n",
              " 'should',\n",
              " 'nine',\n",
              " 'everything',\n",
              " 'or',\n",
              " 'must',\n",
              " 'another',\n",
              " 'either',\n",
              " 'anyhow',\n",
              " 'will',\n",
              " 'any',\n",
              " 'fifty',\n",
              " '’re',\n",
              " 'since',\n",
              " 'through',\n",
              " 'thru',\n",
              " 'third',\n",
              " 'hereafter',\n",
              " 'off',\n",
              " 'show',\n",
              " 'too',\n",
              " 'name',\n",
              " \"'d\",\n",
              " 'seeming',\n",
              " 'eleven',\n",
              " 'between',\n",
              " 'indeed',\n",
              " 'n’t',\n",
              " 'three',\n",
              " 'has',\n",
              " 'latterly',\n",
              " 'down',\n",
              " 'both',\n",
              " 'whole',\n",
              " 'us',\n",
              " 'everyone',\n",
              " 'rather',\n",
              " 'own',\n",
              " 'many',\n",
              " 'below',\n",
              " \"'ve\",\n",
              " 'as',\n",
              " \"'re\",\n",
              " 'front',\n",
              " 'of',\n",
              " 'to',\n",
              " 'behind',\n",
              " 'doing',\n",
              " 'herself',\n",
              " 'see',\n",
              " 'until',\n",
              " 'otherwise',\n",
              " 'thereafter',\n",
              " 'these',\n",
              " 'against',\n",
              " 'being',\n",
              " '‘ll',\n",
              " 'here',\n",
              " 'not',\n",
              " 'really',\n",
              " 'why',\n",
              " 'besides',\n",
              " 'from',\n",
              " 'towards',\n",
              " 'about',\n",
              " 'those',\n",
              " 'whatever',\n",
              " 'whither',\n",
              " 'is',\n",
              " 'something',\n",
              " 'it',\n",
              " 'no',\n",
              " 'thereupon',\n",
              " 'last',\n",
              " 'hers',\n",
              " \"'m\",\n",
              " 'only',\n",
              " \"n't\",\n",
              " 'ten',\n",
              " 'within',\n",
              " 'least',\n",
              " 'under',\n",
              " 'my',\n",
              " 'seemed',\n",
              " 'onto',\n",
              " 'ours',\n",
              " 'others',\n",
              " 'quite',\n",
              " 'this',\n",
              " 'been',\n",
              " 'thus',\n",
              " 'whether',\n",
              " 'afterwards',\n",
              " 'whose',\n",
              " 'themselves',\n",
              " 'do',\n",
              " 'before',\n",
              " 'be',\n",
              " 'yourself',\n",
              " 'whereas',\n",
              " 'latter',\n",
              " 'keep',\n",
              " 'never',\n",
              " 'sixty',\n",
              " 'namely',\n",
              " 'further',\n",
              " 'wherever',\n",
              " 'somewhere',\n",
              " 'with',\n",
              " 'that',\n",
              " 'might',\n",
              " 'whenever',\n",
              " 'sometimes',\n",
              " 'may',\n",
              " 'mostly',\n",
              " 'just',\n",
              " 'seem',\n",
              " 'does',\n",
              " 'became',\n",
              " 'what',\n",
              " '‘re',\n",
              " 'so',\n",
              " 'together',\n",
              " '‘m',\n",
              " 'after',\n",
              " 'whereafter',\n",
              " 'myself',\n",
              " 'yourselves',\n",
              " 'nobody',\n",
              " 'toward',\n",
              " 'well',\n",
              " 'go',\n",
              " 'however',\n",
              " \"'s\",\n",
              " 'next',\n",
              " 'more',\n",
              " 'say',\n",
              " 'always',\n",
              " 'at',\n",
              " 'sometime',\n",
              " 'your',\n",
              " 'himself',\n",
              " '’m',\n",
              " 'and',\n",
              " 'she',\n",
              " 'he',\n",
              " 'where',\n",
              " '‘s',\n",
              " 'again',\n",
              " 'whereby',\n",
              " 'among',\n",
              " 'an',\n",
              " 'six',\n",
              " 'for',\n",
              " 'upon',\n",
              " 'back',\n",
              " 'else',\n",
              " 'than',\n",
              " 'ca',\n",
              " 'which',\n",
              " 'by',\n",
              " 'get',\n",
              " 'her',\n",
              " 'anything',\n",
              " 'would',\n",
              " 'often',\n",
              " 'ever',\n",
              " 'already',\n",
              " 'into',\n",
              " 'four',\n",
              " 'part',\n",
              " 'much',\n",
              " 'ourselves',\n",
              " 'without',\n",
              " 'nowhere',\n",
              " 'therein',\n",
              " 'hereupon',\n",
              " 'whom',\n",
              " 'becomes',\n",
              " 'such',\n",
              " 'whoever',\n",
              " 'them',\n",
              " 'seems',\n",
              " 'because',\n",
              " 'wherein',\n",
              " 'eight',\n",
              " 'very',\n",
              " 'our',\n",
              " 'put',\n",
              " 'his',\n",
              " 'there',\n",
              " 'unless',\n",
              " 'now',\n",
              " 'but',\n",
              " 'around',\n",
              " 'empty',\n",
              " 'five',\n",
              " 'whence',\n",
              " 'its',\n",
              " '‘d',\n",
              " 'once',\n",
              " 'in',\n",
              " 'when',\n",
              " 'perhaps',\n",
              " 'beside',\n",
              " 'somehow',\n",
              " 'anyway',\n",
              " 'twenty',\n",
              " 'up',\n",
              " 'enough',\n",
              " 'everywhere',\n",
              " 'nothing',\n",
              " 'we',\n",
              " \"'ll\",\n",
              " 'some',\n",
              " 'their',\n",
              " 'a',\n",
              " 'can',\n",
              " 'did',\n",
              " 'out',\n",
              " 'noone',\n",
              " 'hereby',\n",
              " 'i',\n",
              " 'yet',\n",
              " 'the',\n",
              " 'give',\n",
              " 'n‘t',\n",
              " 'herein',\n",
              " 'due',\n",
              " 'each',\n",
              " 'per',\n",
              " 'you',\n",
              " 'serious',\n",
              " 'they',\n",
              " 'how',\n",
              " 'though',\n",
              " 'who',\n",
              " 'itself',\n",
              " 'on',\n",
              " 'most',\n",
              " 'across',\n",
              " 'have',\n",
              " 'move',\n",
              " 'few',\n",
              " 'first']"
            ]
          },
          "metadata": {},
          "execution_count": 36
        }
      ]
    },
    {
      "cell_type": "code",
      "metadata": {
        "id": "8Vn5JV4hzQAG"
      },
      "source": [
        "#creating a function for data cleaning"
      ],
      "execution_count": 37,
      "outputs": []
    },
    {
      "cell_type": "code",
      "metadata": {
        "id": "oncrtBQDzaQc"
      },
      "source": [
        "import spacy\n",
        "\n",
        "nlp = spacy.load('en_core_web_sm')\n",
        "\n",
        "def text_data_cleaning(sentence):\n",
        "  doc = nlp(sentence)\n",
        "\n",
        "  tokens = [] # list of tokens\n",
        "  for token in doc:\n",
        "    if token.lemma_ !=\"-PRON-\":\n",
        "      temp = token.lemma_.lower().strip()\n",
        "    else:\n",
        "      temp = token.lower_\n",
        "    tokens.append(temp)\n",
        "\n",
        "  cleaned_tokens = []\n",
        "  for token in tokens:\n",
        "    if token not in stopwords and token not in punct:\n",
        "      cleaned_tokens.append(token)\n",
        "  return cleaned_tokens    \n"
      ],
      "execution_count": 39,
      "outputs": []
    },
    {
      "cell_type": "code",
      "metadata": {
        "id": "LTurLmKp1ywc"
      },
      "source": [
        "# if root form of the word is not pronoun then it is going to convert that into lower form\n",
        "# and if that word is a pronoun noun, then we are directly taking lower form, because there is no lemma in sentence"
      ],
      "execution_count": 42,
      "outputs": []
    },
    {
      "cell_type": "code",
      "metadata": {
        "colab": {
          "base_uri": "https://localhost:8080/"
        },
        "id": "cdRu81g12WRG",
        "outputId": "1a37d656-24af-4f3f-b8f0-1434fb401e3b"
      },
      "source": [
        "text_data_cleaning(\"Hello all, It's a beautiful day outside there!\")\n",
        "\n",
        "# stopwords and punctuation removed"
      ],
      "execution_count": 43,
      "outputs": [
        {
          "output_type": "execute_result",
          "data": {
            "text/plain": [
              "['hello', 'beautiful', 'day', 'outside']"
            ]
          },
          "metadata": {},
          "execution_count": 43
        }
      ]
    },
    {
      "cell_type": "code",
      "metadata": {
        "id": "kel-Baoc2oDG"
      },
      "source": [
        ""
      ],
      "execution_count": null,
      "outputs": []
    },
    {
      "cell_type": "markdown",
      "metadata": {
        "id": "-Yn-oRRr3E9Z"
      },
      "source": [
        "# Vectorization Feature Engineering(TF-IDF)"
      ]
    },
    {
      "cell_type": "code",
      "metadata": {
        "id": "zwpVDSqO3Ujz"
      },
      "source": [
        "from sklearn.svm import LinearSVC\n",
        "from sklearn.feature_extraction.text import TfidfVectorizer\n",
        "from sklearn.pipeline import Pipeline"
      ],
      "execution_count": 45,
      "outputs": []
    },
    {
      "cell_type": "code",
      "metadata": {
        "id": "dSCCZPN23fGB"
      },
      "source": [
        "tfidf = TfidfVectorizer(tokenizer=text_data_cleaning)\n",
        "\n",
        "# tokenizer=text_data_cleaning, tokenization will be done according to this function"
      ],
      "execution_count": 46,
      "outputs": []
    },
    {
      "cell_type": "code",
      "metadata": {
        "id": "OcTh2aBz4P56"
      },
      "source": [
        "classifier = LinearSVC()"
      ],
      "execution_count": 47,
      "outputs": []
    },
    {
      "cell_type": "code",
      "metadata": {
        "id": "H0IT3X054V4E"
      },
      "source": [
        ""
      ],
      "execution_count": null,
      "outputs": []
    },
    {
      "cell_type": "markdown",
      "metadata": {
        "id": "OO3BNb354Xjc"
      },
      "source": [
        "# 3) Train the Model"
      ]
    },
    {
      "cell_type": "markdown",
      "metadata": {
        "id": "Hl-fYgLL5eZV"
      },
      "source": [
        "Splitting the dataset into the Train and Test set"
      ]
    },
    {
      "cell_type": "code",
      "metadata": {
        "id": "-YxwoYl24buz"
      },
      "source": [
        "from sklearn.model_selection import train_test_split\n",
        "x_train, x_test, y_train, y_test = train_test_split(x, y, test_size = 0.2, random_state = 0)"
      ],
      "execution_count": 48,
      "outputs": []
    },
    {
      "cell_type": "code",
      "metadata": {
        "colab": {
          "base_uri": "https://localhost:8080/"
        },
        "id": "nP-sztNd6JoK",
        "outputId": "6398965a-8c52-4638-8d9b-9d86cf214e41"
      },
      "source": [
        "x_train.shape, x_test.shape\n",
        "\n",
        "#2198 samples in training dataset and 550 in test dataset"
      ],
      "execution_count": 49,
      "outputs": [
        {
          "output_type": "execute_result",
          "data": {
            "text/plain": [
              "((2198,), (550,))"
            ]
          },
          "metadata": {},
          "execution_count": 49
        }
      ]
    },
    {
      "cell_type": "code",
      "metadata": {
        "colab": {
          "base_uri": "https://localhost:8080/"
        },
        "id": "5I8CEjcD6Jzp",
        "outputId": "1cba4318-f98b-44b2-aab7-431f93de5186"
      },
      "source": [
        "x_train.head()"
      ],
      "execution_count": 50,
      "outputs": [
        {
          "output_type": "execute_result",
          "data": {
            "text/plain": [
              "2572    An Italian reviewer called this \"a small, grea...\n",
              "526                          And it was way to expensive.\n",
              "1509    As an earlier review noted, plug in this charg...\n",
              "144     Nice blanket of moz over top but i feel like t...\n",
              "2483    The film gives meaning to the phrase, \"Never i...\n",
              "Name: Review, dtype: object"
            ]
          },
          "metadata": {},
          "execution_count": 50
        }
      ]
    },
    {
      "cell_type": "markdown",
      "metadata": {
        "id": "mu5mHbAS61A6"
      },
      "source": [
        "Fit the x_trin and y_train"
      ]
    },
    {
      "cell_type": "code",
      "metadata": {
        "id": "r9KtfnNk6e-M"
      },
      "source": [
        "clf = Pipeline([('tfidf',tfidf), ('clf',classifier)])\n",
        "\n",
        "# it will first do vectorization and then it will do classification"
      ],
      "execution_count": 51,
      "outputs": []
    },
    {
      "cell_type": "code",
      "metadata": {
        "colab": {
          "base_uri": "https://localhost:8080/"
        },
        "id": "-TU-3gGl6fL8",
        "outputId": "52dabefc-43d2-481b-9b4d-f694a298ba97"
      },
      "source": [
        "clf.fit(x_train, y_train)"
      ],
      "execution_count": 52,
      "outputs": [
        {
          "output_type": "execute_result",
          "data": {
            "text/plain": [
              "Pipeline(memory=None,\n",
              "         steps=[('tfidf',\n",
              "                 TfidfVectorizer(analyzer='word', binary=False,\n",
              "                                 decode_error='strict',\n",
              "                                 dtype=<class 'numpy.float64'>,\n",
              "                                 encoding='utf-8', input='content',\n",
              "                                 lowercase=True, max_df=1.0, max_features=None,\n",
              "                                 min_df=1, ngram_range=(1, 1), norm='l2',\n",
              "                                 preprocessor=None, smooth_idf=True,\n",
              "                                 stop_words=None, strip_accents=None,\n",
              "                                 sublinear_tf=False,\n",
              "                                 token_pattern='(?u)\\\\b\\\\w\\\\w+\\\\b',\n",
              "                                 tokenizer=<function text_data_cleaning at 0x7ff5bdf2fe60>,\n",
              "                                 use_idf=True, vocabulary=None)),\n",
              "                ('clf',\n",
              "                 LinearSVC(C=1.0, class_weight=None, dual=True,\n",
              "                           fit_intercept=True, intercept_scaling=1,\n",
              "                           loss='squared_hinge', max_iter=1000,\n",
              "                           multi_class='ovr', penalty='l2', random_state=None,\n",
              "                           tol=0.0001, verbose=0))],\n",
              "         verbose=False)"
            ]
          },
          "metadata": {},
          "execution_count": 52
        }
      ]
    },
    {
      "cell_type": "code",
      "metadata": {
        "id": "3g6pZn_U6KB4"
      },
      "source": [
        "# in this we don't need to prepare the dataset for testing(x_test)"
      ],
      "execution_count": 53,
      "outputs": []
    },
    {
      "cell_type": "code",
      "metadata": {
        "id": "cRreQ8P06KS5"
      },
      "source": [
        ""
      ],
      "execution_count": null,
      "outputs": []
    },
    {
      "cell_type": "markdown",
      "metadata": {
        "id": "FNO_OE0U4dGV"
      },
      "source": [
        "# 4) Predict the Test set results"
      ]
    },
    {
      "cell_type": "code",
      "metadata": {
        "id": "mjtpegJ_4i1i"
      },
      "source": [
        "from sklearn.metrics import accuracy_score, classification_report, confusion_matrix"
      ],
      "execution_count": 54,
      "outputs": []
    },
    {
      "cell_type": "code",
      "metadata": {
        "id": "7-4gM5E_8Nzc"
      },
      "source": [
        "y_pred = clf.predict(x_test)"
      ],
      "execution_count": 55,
      "outputs": []
    },
    {
      "cell_type": "code",
      "metadata": {
        "colab": {
          "base_uri": "https://localhost:8080/"
        },
        "id": "_SxyCDeI8WIz",
        "outputId": "b017c5fc-2c65-46e0-9e9c-42ac15458232"
      },
      "source": [
        "# confusion_matrix\n",
        "confusion_matrix(y_test, y_pred)"
      ],
      "execution_count": 56,
      "outputs": [
        {
          "output_type": "execute_result",
          "data": {
            "text/plain": [
              "array([[201,  78],\n",
              "       [ 50, 221]])"
            ]
          },
          "metadata": {},
          "execution_count": 56
        }
      ]
    },
    {
      "cell_type": "code",
      "metadata": {
        "colab": {
          "base_uri": "https://localhost:8080/"
        },
        "id": "Qw_HpflZ8fPz",
        "outputId": "6519f17b-0d71-4143-c6a4-5e88cd788ff8"
      },
      "source": [
        "# classification_report\n",
        "\n",
        "print(classification_report(y_test, y_pred))\n",
        "\n",
        "# we are getting almost 77% accuracy"
      ],
      "execution_count": 57,
      "outputs": [
        {
          "output_type": "stream",
          "name": "stdout",
          "text": [
            "              precision    recall  f1-score   support\n",
            "\n",
            "           0       0.80      0.72      0.76       279\n",
            "           1       0.74      0.82      0.78       271\n",
            "\n",
            "    accuracy                           0.77       550\n",
            "   macro avg       0.77      0.77      0.77       550\n",
            "weighted avg       0.77      0.77      0.77       550\n",
            "\n"
          ]
        }
      ]
    },
    {
      "cell_type": "code",
      "metadata": {
        "colab": {
          "base_uri": "https://localhost:8080/"
        },
        "id": "eF1YGqtL8zFy",
        "outputId": "9a4cf334-46e9-4dce-e239-66154095b3b1"
      },
      "source": [
        "accuracy_score(y_test, y_pred)\n",
        "\n",
        "# 76% accuracy"
      ],
      "execution_count": 58,
      "outputs": [
        {
          "output_type": "execute_result",
          "data": {
            "text/plain": [
              "0.7672727272727272"
            ]
          },
          "metadata": {},
          "execution_count": 58
        }
      ]
    },
    {
      "cell_type": "code",
      "metadata": {
        "colab": {
          "base_uri": "https://localhost:8080/"
        },
        "id": "AYFNIiLQ8-ma",
        "outputId": "6da35998-aebc-4c54-ba3c-78651f6ef250"
      },
      "source": [
        "clf.predict([\"Woe, I am learning Natural Language processing in fun fashion!\"])\n",
        "\n",
        "# output is 1, that means review is positive"
      ],
      "execution_count": 59,
      "outputs": [
        {
          "output_type": "execute_result",
          "data": {
            "text/plain": [
              "array([1])"
            ]
          },
          "metadata": {},
          "execution_count": 59
        }
      ]
    },
    {
      "cell_type": "code",
      "metadata": {
        "colab": {
          "base_uri": "https://localhost:8080/"
        },
        "id": "vp6R3xXF9woJ",
        "outputId": "81a82560-be66-45d3-b4a1-4f8e5541a751"
      },
      "source": [
        "clf.predict([\"It's hard to learn new things!\"])\n",
        "\n",
        "#output is 0, that means review is Negative"
      ],
      "execution_count": 60,
      "outputs": [
        {
          "output_type": "execute_result",
          "data": {
            "text/plain": [
              "array([0])"
            ]
          },
          "metadata": {},
          "execution_count": 60
        }
      ]
    },
    {
      "cell_type": "code",
      "metadata": {
        "id": "tsUdlSzU-Hkx"
      },
      "source": [
        ""
      ],
      "execution_count": null,
      "outputs": []
    }
  ]
}